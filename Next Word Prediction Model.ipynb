{
 "cells": [
  {
   "cell_type": "markdown",
   "metadata": {},
   "source": [
    "# Task 1: Next Word Prediction Model\n",
    "## Objective: To understand the basics of sequential modelling and RNNs (Recurrent Neural Networks)."
   ]
  },
  {
   "cell_type": "markdown",
   "metadata": {},
   "source": [
    "## Step 1: Data preparation\n",
    "### ● Task: Use a simple set of text data (e.g. tweets, dialogue from films) to create pairs of word sequences, where each pair consists of a string of words followed by a word.\n",
    "### ● Hint: You can use tokenisation () of the words and convert them into a numerical representation."
   ]
  },
  {
   "cell_type": "code",
   "execution_count": 309,
   "metadata": {},
   "outputs": [
    {
     "name": "stderr",
     "output_type": "stream",
     "text": [
      "[nltk_data] Downloading package punkt to\n",
      "[nltk_data]     C:\\Users\\gzdro\\AppData\\Roaming\\nltk_data...\n",
      "[nltk_data]   Package punkt is already up-to-date!\n",
      "[nltk_data] Downloading package stopwords to\n",
      "[nltk_data]     C:\\Users\\gzdro\\AppData\\Roaming\\nltk_data...\n",
      "[nltk_data]   Package stopwords is already up-to-date!\n"
     ]
    },
    {
     "data": {
      "text/plain": [
       "True"
      ]
     },
     "execution_count": 309,
     "metadata": {},
     "output_type": "execute_result"
    }
   ],
   "source": [
    "import pandas as pd\n",
    "import torch\n",
    "from sklearn.model_selection import train_test_split\n",
    "from torch.utils.data import Dataset, DataLoader\n",
    "import torch.nn as nn\n",
    "from torch import optim\n",
    "from torch.nn.utils.rnn import pad_sequence\n",
    "import torch.nn.functional as F\n",
    "import string\n",
    "from nltk.tokenize import word_tokenize\n",
    "from nltk.corpus import stopwords\n",
    "import nltk\n",
    "from torch.optim.lr_scheduler import StepLR\n",
    "import matplotlib.pyplot as plt\n",
    "nltk.download('punkt')\n",
    "nltk.download('stopwords')"
   ]
  },
  {
   "cell_type": "code",
   "execution_count": 310,
   "metadata": {},
   "outputs": [
    {
     "name": "stderr",
     "output_type": "stream",
     "text": [
      "C:\\Users\\gzdro\\AppData\\Local\\Temp\\ipykernel_16420\\902822204.py:1: ParserWarning: Falling back to the 'python' engine because the 'c' engine does not support regex separators (separators > 1 char and different from '\\s+' are interpreted as regex); you can avoid this warning by specifying engine='python'.\n",
      "  text_data = pd.read_csv(\"next_word_prediction_data_base.txt\", header= None, delimiter = \"\\d\") # load data\n"
     ]
    },
    {
     "data": {
      "text/html": [
       "<div>\n",
       "<style scoped>\n",
       "    .dataframe tbody tr th:only-of-type {\n",
       "        vertical-align: middle;\n",
       "    }\n",
       "\n",
       "    .dataframe tbody tr th {\n",
       "        vertical-align: top;\n",
       "    }\n",
       "\n",
       "    .dataframe thead th {\n",
       "        text-align: right;\n",
       "    }\n",
       "</style>\n",
       "<table border=\"1\" class=\"dataframe\">\n",
       "  <thead>\n",
       "    <tr style=\"text-align: right;\">\n",
       "      <th></th>\n",
       "      <th>0</th>\n",
       "    </tr>\n",
       "  </thead>\n",
       "  <tbody>\n",
       "    <tr>\n",
       "      <th>0</th>\n",
       "      <td>Embrace the beauty of every sunrise\\t it's a f...</td>\n",
       "    </tr>\n",
       "    <tr>\n",
       "      <th>1</th>\n",
       "      <td>Embrace challenges\\t they are the stepping sto...</td>\n",
       "    </tr>\n",
       "    <tr>\n",
       "      <th>2</th>\n",
       "      <td>Embrace the rhythm of life and let it dance th...</td>\n",
       "    </tr>\n",
       "    <tr>\n",
       "      <th>3</th>\n",
       "      <td>Embrace kindness, for it has the power to chan...</td>\n",
       "    </tr>\n",
       "    <tr>\n",
       "      <th>4</th>\n",
       "      <td>Embrace the journey, for it leads to the desti...</td>\n",
       "    </tr>\n",
       "    <tr>\n",
       "      <th>...</th>\n",
       "      <td>...</td>\n",
       "    </tr>\n",
       "    <tr>\n",
       "      <th>2527</th>\n",
       "      <td>Believe in yourself, and your grace will be th...</td>\n",
       "    </tr>\n",
       "    <tr>\n",
       "      <th>2528</th>\n",
       "      <td>Believe in yourself, and your gratitude will b...</td>\n",
       "    </tr>\n",
       "    <tr>\n",
       "      <th>2529</th>\n",
       "      <td>Believe in yourself, for your kindness will be...</td>\n",
       "    </tr>\n",
       "    <tr>\n",
       "      <th>2530</th>\n",
       "      <td>Believe in yourself, and your joy will be the ...</td>\n",
       "    </tr>\n",
       "    <tr>\n",
       "      <th>2531</th>\n",
       "      <td>Believe in yourself, and your love will be the...</td>\n",
       "    </tr>\n",
       "  </tbody>\n",
       "</table>\n",
       "<p>2532 rows × 1 columns</p>\n",
       "</div>"
      ],
      "text/plain": [
       "                                                      0\n",
       "0     Embrace the beauty of every sunrise\\t it's a f...\n",
       "1     Embrace challenges\\t they are the stepping sto...\n",
       "2     Embrace the rhythm of life and let it dance th...\n",
       "3     Embrace kindness, for it has the power to chan...\n",
       "4     Embrace the journey, for it leads to the desti...\n",
       "...                                                 ...\n",
       "2527  Believe in yourself, and your grace will be th...\n",
       "2528  Believe in yourself, and your gratitude will b...\n",
       "2529  Believe in yourself, for your kindness will be...\n",
       "2530  Believe in yourself, and your joy will be the ...\n",
       "2531  Believe in yourself, and your love will be the...\n",
       "\n",
       "[2532 rows x 1 columns]"
      ]
     },
     "execution_count": 310,
     "metadata": {},
     "output_type": "execute_result"
    }
   ],
   "source": [
    "text_data = pd.read_csv(\"next_word_prediction_data_base.txt\", header= None, delimiter = \"\\d\") # load data\n",
    "text_data"
   ]
  },
  {
   "cell_type": "code",
   "execution_count": 311,
   "metadata": {},
   "outputs": [
    {
     "data": {
      "text/html": [
       "<div>\n",
       "<style scoped>\n",
       "    .dataframe tbody tr th:only-of-type {\n",
       "        vertical-align: middle;\n",
       "    }\n",
       "\n",
       "    .dataframe tbody tr th {\n",
       "        vertical-align: top;\n",
       "    }\n",
       "\n",
       "    .dataframe thead th {\n",
       "        text-align: right;\n",
       "    }\n",
       "</style>\n",
       "<table border=\"1\" class=\"dataframe\">\n",
       "  <thead>\n",
       "    <tr style=\"text-align: right;\">\n",
       "      <th></th>\n",
       "      <th>Dialog</th>\n",
       "    </tr>\n",
       "  </thead>\n",
       "  <tbody>\n",
       "    <tr>\n",
       "      <th>0</th>\n",
       "      <td>Embrace the beauty of every sunrise\\t it's a f...</td>\n",
       "    </tr>\n",
       "    <tr>\n",
       "      <th>1</th>\n",
       "      <td>Embrace challenges\\t they are the stepping sto...</td>\n",
       "    </tr>\n",
       "    <tr>\n",
       "      <th>2</th>\n",
       "      <td>Embrace the rhythm of life and let it dance th...</td>\n",
       "    </tr>\n",
       "    <tr>\n",
       "      <th>3</th>\n",
       "      <td>Embrace kindness, for it has the power to chan...</td>\n",
       "    </tr>\n",
       "    <tr>\n",
       "      <th>4</th>\n",
       "      <td>Embrace the journey, for it leads to the desti...</td>\n",
       "    </tr>\n",
       "    <tr>\n",
       "      <th>...</th>\n",
       "      <td>...</td>\n",
       "    </tr>\n",
       "    <tr>\n",
       "      <th>2527</th>\n",
       "      <td>Believe in yourself, and your grace will be th...</td>\n",
       "    </tr>\n",
       "    <tr>\n",
       "      <th>2528</th>\n",
       "      <td>Believe in yourself, and your gratitude will b...</td>\n",
       "    </tr>\n",
       "    <tr>\n",
       "      <th>2529</th>\n",
       "      <td>Believe in yourself, for your kindness will be...</td>\n",
       "    </tr>\n",
       "    <tr>\n",
       "      <th>2530</th>\n",
       "      <td>Believe in yourself, and your joy will be the ...</td>\n",
       "    </tr>\n",
       "    <tr>\n",
       "      <th>2531</th>\n",
       "      <td>Believe in yourself, and your love will be the...</td>\n",
       "    </tr>\n",
       "  </tbody>\n",
       "</table>\n",
       "<p>2532 rows × 1 columns</p>\n",
       "</div>"
      ],
      "text/plain": [
       "                                                 Dialog\n",
       "0     Embrace the beauty of every sunrise\\t it's a f...\n",
       "1     Embrace challenges\\t they are the stepping sto...\n",
       "2     Embrace the rhythm of life and let it dance th...\n",
       "3     Embrace kindness, for it has the power to chan...\n",
       "4     Embrace the journey, for it leads to the desti...\n",
       "...                                                 ...\n",
       "2527  Believe in yourself, and your grace will be th...\n",
       "2528  Believe in yourself, and your gratitude will b...\n",
       "2529  Believe in yourself, for your kindness will be...\n",
       "2530  Believe in yourself, and your joy will be the ...\n",
       "2531  Believe in yourself, and your love will be the...\n",
       "\n",
       "[2532 rows x 1 columns]"
      ]
     },
     "execution_count": 311,
     "metadata": {},
     "output_type": "execute_result"
    }
   ],
   "source": [
    "text_data.columns = ['Dialog'] # change column name \n",
    "text_data"
   ]
  },
  {
   "cell_type": "code",
   "execution_count": 312,
   "metadata": {},
   "outputs": [
    {
     "data": {
      "text/plain": [
       "2532"
      ]
     },
     "execution_count": 312,
     "metadata": {},
     "output_type": "execute_result"
    }
   ],
   "source": [
    "dialog_list = text_data['Dialog'].tolist()\n",
    "# dialog_list = dialog_list[:2000]\n",
    "len(dialog_list)"
   ]
  },
  {
   "cell_type": "code",
   "execution_count": 313,
   "metadata": {},
   "outputs": [],
   "source": [
    "# Dictionaries\n",
    "word_to_index = {}\n",
    "index_to_word = {}\n",
    "word_index = 0 \n",
    "\n",
    "def preprocess_text(text):\n",
    "    '''\n",
    "    Word preparation function. Tokenization.\n",
    "    '''\n",
    "    global word_index\n",
    "\n",
    "    text = text.translate(str.maketrans(\"\", \"\", string.punctuation)) # remove special characters\n",
    "    text = text.lower() # change to lower letters\n",
    "    \n",
    "    tokens = word_tokenize(text) # word tokenization\n",
    "    \n",
    "    stop_words = set(stopwords.words('english')) # remove stopwords \n",
    "    tokens = [token for token in tokens if token not in stop_words] \n",
    "\n",
    "    # dictionary updates\n",
    "    for token in tokens:\n",
    "        if token not in word_to_index:\n",
    "            word_to_index[token] = word_index\n",
    "            index_to_word[word_index] = token\n",
    "            word_index += 1\n",
    "    \n",
    "    return tokens"
   ]
  },
  {
   "cell_type": "code",
   "execution_count": 314,
   "metadata": {},
   "outputs": [],
   "source": [
    "# pairs of word sequences\n",
    "sequences = [preprocess_text(sentence) for sentence in dialog_list]"
   ]
  },
  {
   "cell_type": "code",
   "execution_count": 315,
   "metadata": {},
   "outputs": [],
   "source": [
    "# split data into test and training data\n",
    "train_sequences, test_sequences = train_test_split(sequences, test_size = 0.25, random_state = 32)"
   ]
  },
  {
   "cell_type": "code",
   "execution_count": 316,
   "metadata": {},
   "outputs": [],
   "source": [
    "class SeqWordDataset(Dataset):\n",
    "    def __init__(self, sequences, word_to_index, max_seq_length=None):\n",
    "        self.sequences = sequences\n",
    "        self.word_to_index = word_to_index\n",
    "        self.max_seq_length = max_seq_length\n",
    "\n",
    "    def __len__(self):\n",
    "        return len(self.sequences)\n",
    "\n",
    "    def __getitem__(self, idx):\n",
    "        tokens = self.sequences[idx]\n",
    "        if self.max_seq_length is not None:\n",
    "            tokens = tokens[:self.max_seq_length]\n",
    "        # checking if the token is not empty\n",
    "        if len(tokens) > 0:\n",
    "            input_sequence = [self.word_to_index.get(token, 0) for token in tokens[:-1]]\n",
    "            target_word = self.word_to_index.get(tokens[-1], 0)\n",
    "        else:\n",
    "            input_sequence = [0]\n",
    "            target_word = 0\n",
    "\n",
    "        return torch.tensor(input_sequence, dtype = torch.long), torch.tensor(target_word, dtype = torch.long)"
   ]
  },
  {
   "cell_type": "code",
   "execution_count": 317,
   "metadata": {},
   "outputs": [],
   "source": [
    "def padding_sequences(batch):\n",
    "    # tokens should be of similar length\n",
    "    input_sequences, target_words = zip(*batch)\n",
    "    padded_input_sequences = pad_sequence(input_sequences, batch_first=True, padding_value=0)\n",
    "    padded_target_words = torch.tensor(target_words, dtype=torch.long)\n",
    "    return padded_input_sequences, padded_target_words"
   ]
  },
  {
   "cell_type": "code",
   "execution_count": 318,
   "metadata": {},
   "outputs": [],
   "source": [
    "max_seq_length = 8\n",
    "train_dataset = SeqWordDataset(train_sequences, word_to_index, max_seq_length=max_seq_length)\n",
    "test_dataset = SeqWordDataset(test_sequences, word_to_index, max_seq_length=max_seq_length)"
   ]
  },
  {
   "cell_type": "code",
   "execution_count": 319,
   "metadata": {},
   "outputs": [],
   "source": [
    "batch_size = 32\n",
    "train_loader = DataLoader(train_dataset, batch_size = batch_size, shuffle = True, collate_fn = padding_sequences)\n",
    "test_loader = DataLoader(test_dataset, batch_size = batch_size, shuffle = False, collate_fn = padding_sequences)"
   ]
  },
  {
   "cell_type": "markdown",
   "metadata": {},
   "source": [
    "## Step 2: Building an RNN Model\n",
    "### ● Task: Build a simple RNN model in PyTorch that will predict the next word based on the given word sequence.\n",
    "### ● Hint: Use torch.nn.RNN or torch.nn.LSTM to create the model."
   ]
  },
  {
   "cell_type": "code",
   "execution_count": 325,
   "metadata": {},
   "outputs": [],
   "source": [
    "class ModelLSTM(nn.Module):\n",
    "    def __init__(self, vocab_size, embedding_dim, hidden_dim, num_layers):\n",
    "        super(ModelLSTM, self).__init__()\n",
    "        self.embedding = nn.Embedding(vocab_size, embedding_dim)\n",
    "        self.lstm = nn.LSTM(embedding_dim, hidden_dim, num_layers=2, batch_first=True, bidirectional=True)\n",
    "        self.layer_norm = nn.BatchNorm1d(hidden_dim * 2)\n",
    "        self.fc1 = nn.Linear(hidden_dim * 2, vocab_size)\n",
    "        self.fc2 = nn.Linear(vocab_size, vocab_size)\n",
    "        self.activ = nn.ELU()\n",
    "        self.log_softmax = nn.LogSoftmax(dim=1)\n",
    "\n",
    "    def forward(self, x):\n",
    "        embedded = self.embedding(x)\n",
    "        lstmm, _ = self.lstm(embedded)\n",
    "        layers = self.layer_norm(lstmm.permute(0, 2, 1).contiguous()).permute(0, 2, 1)\n",
    "        activation = self.activ(torch.mean(layers, dim=1).float())\n",
    "        fc1_linear = self.fc1(activation)\n",
    "        fc2_linear = self.fc2(fc1_linear) \n",
    "        out = self.log_softmax(fc2_linear)\n",
    "        return out"
   ]
  },
  {
   "cell_type": "code",
   "execution_count": 326,
   "metadata": {},
   "outputs": [],
   "source": [
    "vocab_size = len(word_to_index)\n",
    "embedding_dim = 500\n",
    "hidden_dim = 500\n",
    "num_layers = 2\n",
    "\n",
    "model = ModelLSTM(vocab_size, embedding_dim, hidden_dim, num_layers)"
   ]
  },
  {
   "cell_type": "markdown",
   "metadata": {},
   "source": [
    "## Step 3: Training and Testing\n",
    "### ● Task: Train the model on the prepared data and then test its ability to predict the next words in new sequences.\n",
    "### ● Hint: Monitor loss during training and adjust parameters, such as the number of training epochs or the size of the hidden layer, to improve performance."
   ]
  },
  {
   "cell_type": "code",
   "execution_count": 327,
   "metadata": {},
   "outputs": [],
   "source": [
    "lr = 0.001\n",
    "l2 = 1e-5\n",
    "opt = torch.optim.Adam(model.parameters(), lr = lr, weight_decay=l2)\n",
    "scheduler = StepLR(opt, step_size = 5, gamma = 0.5)\n",
    "loss_func = nn.CrossEntropyLoss()"
   ]
  },
  {
   "cell_type": "code",
   "execution_count": 328,
   "metadata": {},
   "outputs": [],
   "source": [
    "def trainer(model, train_loader, loss_func, opt, epochs, scheduler=None, max_seq_length=None):\n",
    "    '''\n",
    "    A function for training the model.\n",
    "    '''\n",
    "    train_losses = []\n",
    "    train_accuracies = []\n",
    "\n",
    "    for epoch in range(epochs):\n",
    "        model.train()\n",
    "        running_loss = 0.0\n",
    "        correct_predictions = 0\n",
    "        total_samples = 0\n",
    "\n",
    "        for x, y in train_loader:\n",
    "            if max_seq_length is not None:\n",
    "                x = x[:, :max_seq_length]\n",
    "            opt.zero_grad()\n",
    "\n",
    "            # prediction\n",
    "            pred = model(x)\n",
    "\n",
    "            # loss function\n",
    "            loss = loss_func(pred, y.long())\n",
    "            \n",
    "            torch.nn.utils.clip_grad_norm_(model.parameters(), max_norm = 1.0)\n",
    "\n",
    "            # backprop and optimalization\n",
    "            loss.backward()\n",
    "            opt.step()\n",
    "\n",
    "            running_loss += loss.item()\n",
    "\n",
    "            # accuracy\n",
    "            _, predicted = torch.max(pred.data, 1)\n",
    "            total_samples += y.size(0)\n",
    "            correct_predictions += (predicted == y).sum().item()\n",
    "\n",
    "        train_losses.append(running_loss / len(train_loader))\n",
    "        accuracy = correct_predictions / total_samples\n",
    "        train_accuracies.append(accuracy)\n",
    "        if scheduler is not None:\n",
    "            scheduler.step()\n",
    "\n",
    "        print(f'Epoch {epoch + 1}/{epochs}, Train Loss: {train_losses[-1]:.4f}, Accuracy: {accuracy * 100:.2f}%')\n",
    "\n",
    "    return train_losses, train_accuracies"
   ]
  },
  {
   "cell_type": "code",
   "execution_count": 330,
   "metadata": {},
   "outputs": [
    {
     "name": "stdout",
     "output_type": "stream",
     "text": [
      "Epoch 1/15, Train Loss: 4.5239, Accuracy: 30.49%\n",
      "Epoch 2/15, Train Loss: 2.3081, Accuracy: 53.34%\n",
      "Epoch 3/15, Train Loss: 1.2569, Accuracy: 71.77%\n",
      "Epoch 4/15, Train Loss: 0.8624, Accuracy: 81.46%\n",
      "Epoch 5/15, Train Loss: 0.5964, Accuracy: 86.89%\n",
      "Epoch 6/15, Train Loss: 0.2867, Accuracy: 92.89%\n",
      "Epoch 7/15, Train Loss: 0.1592, Accuracy: 95.37%\n",
      "Epoch 8/15, Train Loss: 0.1349, Accuracy: 96.05%\n",
      "Epoch 9/15, Train Loss: 0.1288, Accuracy: 96.16%\n",
      "Epoch 10/15, Train Loss: 0.1300, Accuracy: 96.47%\n",
      "Epoch 11/15, Train Loss: 0.0919, Accuracy: 96.58%\n",
      "Epoch 12/15, Train Loss: 0.0821, Accuracy: 96.58%\n",
      "Epoch 13/15, Train Loss: 0.0830, Accuracy: 96.37%\n",
      "Epoch 14/15, Train Loss: 0.0816, Accuracy: 96.26%\n",
      "Epoch 15/15, Train Loss: 0.0829, Accuracy: 96.26%\n"
     ]
    }
   ],
   "source": [
    "epochs = 15\n",
    "train_losses, train_accuracies = trainer(model, train_loader, loss_func, opt, epochs = epochs, scheduler=scheduler, max_seq_length=max_seq_length)"
   ]
  },
  {
   "cell_type": "code",
   "execution_count": 331,
   "metadata": {},
   "outputs": [],
   "source": [
    "def tester(model, data_loader, loss_func, max_seq_length=None):\n",
    "    '''\n",
    "    A function for testing the model.\n",
    "    '''\n",
    "    model.eval()\n",
    "    test_loss = 0.0\n",
    "    correct_predictions = 0\n",
    "    total_samples = 0\n",
    "    \n",
    "\n",
    "    with torch.no_grad():\n",
    "        for x, y in data_loader:\n",
    "            if max_seq_length is not None:\n",
    "                x = x[:, :max_seq_length]\n",
    "\n",
    "            # prediction\n",
    "            pred = model(x)\n",
    "\n",
    "            # loss function\n",
    "            loss = loss_func(pred, y)\n",
    "            test_loss += loss.item()\n",
    "\n",
    "            # accuracy \n",
    "            _, predicted = torch.max(pred.data, 1)\n",
    "            total_samples += y.size(0)\n",
    "            correct_predictions += (predicted == y).sum().item()\n",
    "\n",
    "    test_losses = test_loss / len(data_loader)\n",
    "    test_accuracy = correct_predictions / total_samples\n",
    "\n",
    "    print(f'Test Loss: {test_losses:.4f}, Test Accuracy: {test_accuracy * 100:.2f}%')\n",
    "\n",
    "    return test_losses, test_accuracy"
   ]
  },
  {
   "cell_type": "code",
   "execution_count": 332,
   "metadata": {},
   "outputs": [
    {
     "name": "stdout",
     "output_type": "stream",
     "text": [
      "Test Loss: 4.1007, Test Accuracy: 56.24%\n"
     ]
    }
   ],
   "source": [
    "test_losses, test_accuracy = tester(model, test_loader, loss_func, max_seq_length=max_seq_length)"
   ]
  },
  {
   "cell_type": "code",
   "execution_count": 333,
   "metadata": {},
   "outputs": [
    {
     "data": {
      "image/png": "[encoded data removed]",
      "text/plain": [
       "<Figure size 1000x500 with 1 Axes>"
      ]
     },
     "metadata": {},
     "output_type": "display_data"
    }
   ],
   "source": [
    "# accuracy's plot\n",
    "plt.figure(figsize=(10,5))\n",
    "plt.title(\"Training accuracies\")\n",
    "plt.plot(train_accuracies, label=\"train\")\n",
    "plt.xlabel(\"Epochs\")\n",
    "plt.ylabel(\"Accuracy\")\n",
    "plt.legend()\n",
    "plt.show()"
   ]
  },
  {
   "cell_type": "code",
   "execution_count": 334,
   "metadata": {},
   "outputs": [
    {
     "data": {
      "image/png": "[encoded data removed]",
      "text/plain": [
       "<Figure size 1000x500 with 1 Axes>"
      ]
     },
     "metadata": {},
     "output_type": "display_data"
    }
   ],
   "source": [
    "# loss function's plot \n",
    "plt.figure(figsize=(10,5))\n",
    "plt.title(\"Training Loss\")\n",
    "plt.plot(train_losses, label=\"train\")\n",
    "plt.xlabel(\"Epochs\")\n",
    "plt.ylabel(\"Loss\")\n",
    "plt.legend()\n",
    "plt.show()"
   ]
  }
 ],
 "metadata": {
  "kernelspec": {
   "display_name": "Python 3",
   "language": "python",
   "name": "python3"
  },
  "language_info": {
   "codemirror_mode": {
    "name": "ipython",
    "version": 3
   },
   "file_extension": ".py",
   "mimetype": "text/x-python",
   "name": "python",
   "nbconvert_exporter": "python",
   "pygments_lexer": "ipython3",
   "version": "3.11.2"
  }
 },
 "nbformat": 4,
 "nbformat_minor": 2
}
