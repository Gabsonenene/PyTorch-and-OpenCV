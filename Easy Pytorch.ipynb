{
 "cells": [
  {
   "cell_type": "markdown",
   "metadata": {},
   "source": [
    "## 1. Understand Tensors in PyTorch:\n",
    "### ● Task: Create a tensor in PyTorch and perform basic operations on it (addition, multiplication, transposition).\n",
    "### ● Objective: Understand the basic concepts of tensors, which are key elements in machine learning and deep learning."
   ]
  },
  {
   "cell_type": "code",
   "execution_count": null,
   "metadata": {},
   "outputs": [],
   "source": [
    "import torch"
   ]
  },
  {
   "cell_type": "code",
   "execution_count": null,
   "metadata": {},
   "outputs": [
    {
     "data": {
      "text/plain": [
       "tensor([[1., 2., 3., 4.],\n",
       "        [4., 3., 2., 1.],\n",
       "        [4., 2., 1., 3.]])"
      ]
     },
     "execution_count": 93,
     "metadata": {},
     "output_type": "execute_result"
    }
   ],
   "source": [
    "tensor1 = torch.FloatTensor([[1,2,3,4],[4,3,2,1],[4,2,1,3]])\n",
    "tensor1"
   ]
  },
  {
   "cell_type": "code",
   "execution_count": null,
   "metadata": {},
   "outputs": [
    {
     "data": {
      "text/plain": [
       "tensor([[3., 4., 5., 6.],\n",
       "        [6., 5., 4., 3.],\n",
       "        [6., 4., 3., 5.]])"
      ]
     },
     "execution_count": 94,
     "metadata": {},
     "output_type": "execute_result"
    }
   ],
   "source": [
    "add = tensor1 + 2\n",
    "add"
   ]
  },
  {
   "cell_type": "code",
   "execution_count": null,
   "metadata": {},
   "outputs": [
    {
     "data": {
      "text/plain": [
       "tensor([[2., 4., 6., 8.],\n",
       "        [8., 6., 4., 2.],\n",
       "        [8., 4., 2., 6.]])"
      ]
     },
     "execution_count": 95,
     "metadata": {},
     "output_type": "execute_result"
    }
   ],
   "source": [
    "multi = tensor1 * 2\n",
    "multi"
   ]
  },
  {
   "cell_type": "code",
   "execution_count": null,
   "metadata": {},
   "outputs": [
    {
     "data": {
      "text/plain": [
       "tensor([[1., 4., 4.],\n",
       "        [2., 3., 2.],\n",
       "        [3., 2., 1.],\n",
       "        [4., 1., 3.]])"
      ]
     },
     "execution_count": 96,
     "metadata": {},
     "output_type": "execute_result"
    }
   ],
   "source": [
    "transposed = torch.transpose(tensor1, 0, 1)\n",
    "transposed"
   ]
  },
  {
   "cell_type": "code",
   "execution_count": null,
   "metadata": {},
   "outputs": [
    {
     "name": "stdout",
     "output_type": "stream",
     "text": [
      "tensor([[8, 4],\n",
      "        [3, 3]])\n",
      "tensor([[6, 3],\n",
      "        [6, 1]])\n"
     ]
    }
   ],
   "source": [
    "tensor2 = torch.randint(1, 10, (2,2))\n",
    "tensor3 = torch.randint(1, 10, (2,2))\n",
    "\n",
    "print(tensor2)\n",
    "print(tensor3)"
   ]
  },
  {
   "cell_type": "code",
   "execution_count": null,
   "metadata": {},
   "outputs": [
    {
     "data": {
      "text/plain": [
       "tensor([[72, 28],\n",
       "        [36, 12]])"
      ]
     },
     "execution_count": 98,
     "metadata": {},
     "output_type": "execute_result"
    }
   ],
   "source": [
    "torch.matmul(tensor2, tensor3)"
   ]
  },
  {
   "cell_type": "code",
   "execution_count": null,
   "metadata": {},
   "outputs": [
    {
     "data": {
      "text/plain": [
       "tensor([[14,  7],\n",
       "        [ 9,  4]])"
      ]
     },
     "execution_count": 99,
     "metadata": {},
     "output_type": "execute_result"
    }
   ],
   "source": [
    "torch.add(tensor2, tensor3)"
   ]
  },
  {
   "cell_type": "code",
   "execution_count": null,
   "metadata": {},
   "outputs": [
    {
     "data": {
      "text/plain": [
       "tensor([[48, 12],\n",
       "        [18,  3]])"
      ]
     },
     "execution_count": 100,
     "metadata": {},
     "output_type": "execute_result"
    }
   ],
   "source": [
    "torch.mul(tensor2, tensor3)"
   ]
  },
  {
   "cell_type": "markdown",
   "metadata": {},
   "source": [
    "## 2. Data Loading and Processing:\n",
    "### ● Task: Load a dataset (e.g. MNIST) using PyTorch DataLoader and perform simple transformations on it (normalisation, resizing, etc.).\n",
    "### ● Objective: Understand how to process the data before training the model."
   ]
  },
  {
   "cell_type": "code",
   "execution_count": null,
   "metadata": {},
   "outputs": [],
   "source": [
    "from torch.utils.data import DataLoader\n",
    "from torchvision import transforms\n",
    "from torchvision.datasets import MNIST"
   ]
  },
  {
   "cell_type": "code",
   "execution_count": null,
   "metadata": {},
   "outputs": [],
   "source": [
    "transform = transforms.Compose([\n",
    "    transforms.ToTensor(), # transform to tensors \n",
    "    transforms.Resize((32, 32), antialias=True),\n",
    "    transforms.Normalize((0.5,), (0.5,))]) "
   ]
  },
  {
   "cell_type": "code",
   "execution_count": null,
   "metadata": {},
   "outputs": [],
   "source": [
    "# data loading\n",
    "data_train = DataLoader( \n",
    "    MNIST\n",
    "    ('./mnist_data',\n",
    "    train = True,\n",
    "    download = True,\n",
    "    transform = transform),\n",
    "    batch_size = 64, \n",
    "    shuffle = True)"
   ]
  },
  {
   "cell_type": "code",
   "execution_count": null,
   "metadata": {},
   "outputs": [
    {
     "name": "stdout",
     "output_type": "stream",
     "text": [
      "Batch size: torch.Size([64, 1, 32, 32])\n"
     ]
    }
   ],
   "source": [
    "# check if the size has changed\n",
    "for images, labels in data_train:\n",
    "    print(\"Batch size:\", images.size())\n",
    "    break"
   ]
  },
  {
   "cell_type": "markdown",
   "metadata": {},
   "source": [
    "## 3. Building a Simple Neural Network Model:\n",
    "### ● Task: Build a simple neural network model (e.g. one hidden layer) in PyTorch for image classification.\n",
    "### ● Objective: Understand the basic concepts of building and training neural networks."
   ]
  },
  {
   "cell_type": "code",
   "execution_count": null,
   "metadata": {},
   "outputs": [],
   "source": [
    "import matplotlib.pyplot as plt\n",
    "from torch import nn"
   ]
  },
  {
   "cell_type": "code",
   "execution_count": null,
   "metadata": {},
   "outputs": [
    {
     "data": {
      "text/plain": [
       "<matplotlib.image.AxesImage at 0x2502c964910>"
      ]
     },
     "execution_count": 106,
     "metadata": {},
     "output_type": "execute_result"
    },
    {
     "data": {
      "image/png": "[encoded data removed]",
      "text/plain": [
       "<Figure size 640x480 with 1 Axes>"
      ]
     },
     "metadata": {},
     "output_type": "display_data"
    }
   ],
   "source": [
    "# still working on the MNIST collection\n",
    "plt.imshow(images[0].numpy().squeeze(), cmap='gray_r') # print one image"
   ]
  },
  {
   "cell_type": "code",
   "execution_count": null,
   "metadata": {},
   "outputs": [
    {
     "data": {
      "image/png": "[encoded data removed]",
      "text/plain": [
       "<Figure size 640x480 with 30 Axes>"
      ]
     },
     "metadata": {},
     "output_type": "display_data"
    }
   ],
   "source": [
    "figure = plt.figure()\n",
    "num_of_images = 30\n",
    "for index in range(1, num_of_images + 1): # print more images\n",
    "    plt.subplot(6, 10, index)\n",
    "    plt.axis('off')\n",
    "    plt.imshow(images[index].numpy().squeeze(), cmap='gray_r')"
   ]
  },
  {
   "cell_type": "code",
   "execution_count": null,
   "metadata": {},
   "outputs": [
    {
     "name": "stdout",
     "output_type": "stream",
     "text": [
      "Sequential(\n",
      "  (0): Linear(in_features=1024, out_features=128, bias=True)\n",
      "  (1): ReLU()\n",
      "  (2): Linear(in_features=128, out_features=10, bias=True)\n",
      "  (3): LogSoftmax(dim=1)\n",
      ")\n"
     ]
    }
   ],
   "source": [
    "input_size = 1024 # 32 x 32 (image size)\n",
    "hidden_size = 128 \n",
    "output_size = 10 \n",
    "\n",
    "model = nn.Sequential(nn.Linear(input_size, hidden_size),\n",
    "                  nn.ReLU(),\n",
    "                  nn.Linear(hidden_size, output_size),\n",
    "                  nn.LogSoftmax(dim=1))\n",
    "\n",
    "print(model)"
   ]
  },
  {
   "cell_type": "code",
   "execution_count": null,
   "metadata": {},
   "outputs": [
    {
     "name": "stdout",
     "output_type": "stream",
     "text": [
      "Layer: 0.weight | Size: torch.Size([128, 1024]) | Values : tensor([[ 0.0093,  0.0008, -0.0157,  ..., -0.0020,  0.0284,  0.0108],\n",
      "        [-0.0004, -0.0215,  0.0063,  ...,  0.0084, -0.0288,  0.0104]],\n",
      "       grad_fn=<SliceBackward0>) \n",
      "\n",
      "Layer: 0.bias | Size: torch.Size([128]) | Values : tensor([0.0057, 0.0067], grad_fn=<SliceBackward0>) \n",
      "\n",
      "Layer: 2.weight | Size: torch.Size([10, 128]) | Values : tensor([[-0.0764,  0.0124, -0.0832, -0.0789,  0.0792, -0.0851,  0.0379,  0.0676,\n",
      "         -0.0634,  0.0489,  0.0468,  0.0054,  0.0234, -0.0138,  0.0012,  0.0144,\n",
      "         -0.0131,  0.0418, -0.0763, -0.0023,  0.0318,  0.0539,  0.0018, -0.0182,\n",
      "         -0.0799,  0.0121,  0.0372, -0.0516,  0.0019,  0.0788, -0.0783,  0.0647,\n",
      "         -0.0690,  0.0629, -0.0315, -0.0619,  0.0418, -0.0420,  0.0639,  0.0876,\n",
      "          0.0012,  0.0676,  0.0286, -0.0543, -0.0416,  0.0635, -0.0233,  0.0194,\n",
      "         -0.0416, -0.0422, -0.0239, -0.0221, -0.0633, -0.0137,  0.0455, -0.0570,\n",
      "         -0.0658,  0.0262, -0.0560, -0.0090,  0.0355,  0.0309,  0.0195, -0.0543,\n",
      "         -0.0062, -0.0744, -0.0536,  0.0669,  0.0837,  0.0847, -0.0766, -0.0871,\n",
      "         -0.0740,  0.0163, -0.0779,  0.0197, -0.0266,  0.0882, -0.0034, -0.0194,\n",
      "          0.0048, -0.0396, -0.0463, -0.0261, -0.0031,  0.0661,  0.0116, -0.0119,\n",
      "          0.0586,  0.0018, -0.0299,  0.0729, -0.0458,  0.0574,  0.0137, -0.0584,\n",
      "         -0.0141, -0.0519, -0.0149,  0.0304,  0.0320, -0.0656, -0.0064, -0.0154,\n",
      "         -0.0010, -0.0517,  0.0406, -0.0153,  0.0182, -0.0033,  0.0102, -0.0620,\n",
      "         -0.0325, -0.0198, -0.0775, -0.0553, -0.0725,  0.0870, -0.0667, -0.0080,\n",
      "          0.0764,  0.0169,  0.0090,  0.0587, -0.0633, -0.0621,  0.0434,  0.0292],\n",
      "        [ 0.0393,  0.0255,  0.0342, -0.0527, -0.0734, -0.0827,  0.0835, -0.0596,\n",
      "         -0.0824,  0.0177, -0.0030,  0.0029, -0.0346,  0.0130, -0.0543,  0.0815,\n",
      "         -0.0715,  0.0299, -0.0372,  0.0041, -0.0489, -0.0874,  0.0101, -0.0413,\n",
      "         -0.0038,  0.0828,  0.0410, -0.0769, -0.0837, -0.0058, -0.0411,  0.0179,\n",
      "         -0.0754,  0.0053, -0.0240, -0.0154,  0.0122, -0.0804,  0.0644,  0.0403,\n",
      "         -0.0028, -0.0530, -0.0653, -0.0017, -0.0720, -0.0071, -0.0335,  0.0664,\n",
      "         -0.0878,  0.0224, -0.0201, -0.0443,  0.0405,  0.0719, -0.0609, -0.0202,\n",
      "         -0.0259,  0.0818, -0.0405,  0.0248, -0.0528,  0.0622, -0.0716,  0.0555,\n",
      "          0.0362,  0.0132,  0.0630,  0.0562, -0.0856, -0.0698, -0.0652,  0.0825,\n",
      "         -0.0283,  0.0389,  0.0685,  0.0692, -0.0694, -0.0849,  0.0345, -0.0260,\n",
      "         -0.0045,  0.0235,  0.0290,  0.0186, -0.0716, -0.0569, -0.0580,  0.0205,\n",
      "         -0.0038, -0.0157,  0.0861,  0.0453, -0.0177, -0.0484, -0.0299,  0.0016,\n",
      "          0.0060,  0.0620, -0.0188,  0.0778, -0.0575,  0.0382,  0.0748,  0.0580,\n",
      "          0.0792,  0.0425,  0.0402, -0.0244, -0.0341, -0.0781, -0.0283,  0.0402,\n",
      "         -0.0872,  0.0436, -0.0503,  0.0780,  0.0641,  0.0584, -0.0783, -0.0869,\n",
      "         -0.0168,  0.0463,  0.0751, -0.0012, -0.0501, -0.0090,  0.0512,  0.0252]],\n",
      "       grad_fn=<SliceBackward0>) \n",
      "\n",
      "Layer: 2.bias | Size: torch.Size([10]) | Values : tensor([-0.0137, -0.0053], grad_fn=<SliceBackward0>) \n",
      "\n"
     ]
    }
   ],
   "source": [
    "for name, param in model.named_parameters():\n",
    "    print(f\"Layer: {name} | Size: {param.size()} | Values : {param[:2]} \\n\")"
   ]
  },
  {
   "cell_type": "markdown",
   "metadata": {},
   "source": [
    "## Corrected Task 3"
   ]
  },
  {
   "cell_type": "code",
   "execution_count": null,
   "metadata": {},
   "outputs": [],
   "source": [
    "import torch.nn.functional as F"
   ]
  },
  {
   "cell_type": "code",
   "execution_count": null,
   "metadata": {},
   "outputs": [
    {
     "data": {
      "text/plain": [
       "SimpleModel(\n",
       "  (flatten): Flatten(start_dim=1, end_dim=-1)\n",
       "  (layer): Linear(in_features=1024, out_features=128, bias=True)\n",
       "  (activation): ReLU()\n",
       "  (output): Linear(in_features=128, out_features=10, bias=True)\n",
       "  (softmax): LogSoftmax(dim=1)\n",
       ")"
      ]
     },
     "execution_count": 111,
     "metadata": {},
     "output_type": "execute_result"
    }
   ],
   "source": [
    "class SimpleModel(nn.Module):\n",
    "    def __init__(self, hidden_size, input_size, output_size):\n",
    "        super(SimpleModel, self).__init__()\n",
    "        self.flatten = nn.Flatten() # flatten the image\n",
    "        self.layer = nn.Linear(input_size, hidden_size) # linear layer\n",
    "        self.activation = nn.ReLU()\n",
    "        self.output = nn.Linear(hidden_size, output_size)\n",
    "        self.softmax = nn.LogSoftmax(dim=1)\n",
    "    \n",
    "    def forward(self, x):\n",
    "        x = self.flatten(x)\n",
    "        x = self.layer(x)\n",
    "        x = self.activation(x)\n",
    "        x = self.output(x)\n",
    "        x = self.softmax(x)\n",
    "        return x\n",
    "\n",
    "model = SimpleModel(hidden_size, input_size, output_size)\n",
    "model"
   ]
  },
  {
   "cell_type": "code",
   "execution_count": null,
   "metadata": {},
   "outputs": [],
   "source": [
    "# class SimpleNetwork(nn.Module):\n",
    "#     def __init__(self, hidden_size, input_size, output_size):\n",
    "#         super(SimpleNetwork, self).__init__()\n",
    "#         self.flatten = nn.Flatten()\n",
    "#         self.conv1 = nn.Conv2d(input_size, hidden_size, kernel_size=3, padding=1)\n",
    "#         self.activation = nn.ReLU()\n",
    "#         self.output = nn.Linear(hidden_size * output_size * output_size, output_size)\n",
    "\n",
    "#     def forward(self, x):\n",
    "#         x = self.flatten(x)\n",
    "#         x = F.relu(self.conv1(x))\n",
    "#         x = self.activation(x)\n",
    "#         x = self.output(x)\n",
    "#         x = F.log_softmax(x, dim=1)\n",
    "#         return x\n",
    "\n",
    "# model = SimpleModel(hidden_size, input_size, output_size)\n",
    "# print(model)"
   ]
  },
  {
   "cell_type": "code",
   "execution_count": null,
   "metadata": {},
   "outputs": [
    {
     "data": {
      "text/plain": [
       "OrderedDict([('layer.weight',\n",
       "              tensor([[ 0.0272, -0.0167, -0.0215,  ..., -0.0150,  0.0054, -0.0205],\n",
       "                      [ 0.0311,  0.0002, -0.0259,  ..., -0.0144, -0.0027,  0.0035],\n",
       "                      [ 0.0110, -0.0046,  0.0114,  ...,  0.0288, -0.0312, -0.0208],\n",
       "                      ...,\n",
       "                      [-0.0302,  0.0195, -0.0226,  ..., -0.0098,  0.0081, -0.0075],\n",
       "                      [-0.0034, -0.0221,  0.0229,  ..., -0.0299, -0.0192,  0.0084],\n",
       "                      [-0.0223, -0.0087,  0.0243,  ...,  0.0014, -0.0295, -0.0279]])),\n",
       "             ('layer.bias',\n",
       "              tensor([-6.1560e-03,  6.5384e-03,  2.6768e-02,  2.0221e-02,  1.6741e-02,\n",
       "                      -1.7138e-02,  2.1017e-02,  2.6694e-02,  2.3898e-02, -2.0396e-02,\n",
       "                       2.0497e-02, -2.9486e-02,  7.8318e-04, -1.6359e-02, -3.4082e-03,\n",
       "                       9.5681e-03,  1.0209e-03, -3.7324e-03,  1.5824e-02,  4.8869e-03,\n",
       "                       4.8205e-03, -3.8053e-03,  5.5201e-03,  5.2298e-04,  9.3575e-03,\n",
       "                       7.9891e-03,  2.0491e-02, -1.8168e-02,  1.6722e-02,  5.1458e-03,\n",
       "                       2.2850e-02, -2.4758e-02,  1.0261e-02,  2.4614e-02,  1.1248e-02,\n",
       "                       2.1383e-02, -3.0489e-02, -1.2322e-02,  1.7117e-04,  2.3156e-02,\n",
       "                      -4.9468e-03,  1.5803e-02, -5.8674e-03, -2.0620e-02, -1.2188e-02,\n",
       "                      -1.3761e-02,  1.2681e-02,  8.5639e-03, -1.8527e-03,  1.3404e-03,\n",
       "                      -9.6546e-03, -1.5598e-02,  6.5127e-03,  2.9885e-02,  4.2408e-03,\n",
       "                       2.1398e-02, -1.1301e-02, -1.1267e-02, -1.7511e-02, -1.2735e-02,\n",
       "                      -2.2407e-02, -2.5156e-02, -1.1142e-02,  1.9048e-02,  1.4217e-02,\n",
       "                      -7.5710e-03, -8.0141e-03,  2.7016e-02,  2.8436e-02,  2.5092e-02,\n",
       "                       1.3608e-04,  2.1567e-02, -4.4156e-03,  8.1654e-03,  2.7288e-02,\n",
       "                       4.4766e-03, -1.4134e-02,  1.1057e-02, -1.3396e-02, -1.8736e-02,\n",
       "                      -1.8928e-02,  1.2529e-02,  2.7147e-02,  2.7556e-02,  9.4582e-03,\n",
       "                       2.1781e-02,  2.3665e-02, -2.7509e-02,  1.1299e-02,  1.9411e-02,\n",
       "                       2.4150e-02,  2.6101e-02,  7.3155e-03,  6.6935e-03, -1.9146e-02,\n",
       "                       2.9920e-02,  1.6932e-02,  2.8180e-02,  1.3175e-02, -2.9885e-02,\n",
       "                       1.5540e-02, -2.9238e-02, -3.0910e-02, -4.1172e-03,  2.5722e-02,\n",
       "                       2.3966e-03, -6.2353e-03, -6.8268e-03, -5.2465e-03, -2.7407e-02,\n",
       "                      -7.3996e-03, -9.1312e-03, -8.5917e-03,  1.6313e-02,  2.5832e-03,\n",
       "                       3.1140e-05, -8.9666e-03, -5.0605e-03, -1.1186e-02, -4.2206e-03,\n",
       "                       4.4451e-03, -2.2557e-02,  5.5372e-03,  3.0013e-02, -2.3363e-02,\n",
       "                      -7.4110e-04,  5.7349e-03, -2.7049e-02])),\n",
       "             ('output.weight',\n",
       "              tensor([[-0.0801, -0.0258,  0.0511,  ..., -0.0336,  0.0559, -0.0317],\n",
       "                      [-0.0493, -0.0361,  0.0291,  ...,  0.0342, -0.0117, -0.0234],\n",
       "                      [ 0.0701,  0.0708,  0.0438,  ...,  0.0342,  0.0163,  0.0773],\n",
       "                      ...,\n",
       "                      [ 0.0825, -0.0789, -0.0497,  ..., -0.0101,  0.0882, -0.0319],\n",
       "                      [ 0.0033,  0.0449, -0.0702,  ..., -0.0510,  0.0303, -0.0120],\n",
       "                      [ 0.0157,  0.0846, -0.0251,  ...,  0.0615,  0.0587,  0.0255]])),\n",
       "             ('output.bias',\n",
       "              tensor([ 0.0011,  0.0483,  0.0449, -0.0436, -0.0588, -0.0206,  0.0770,  0.0246,\n",
       "                       0.0550,  0.0678]))])"
      ]
     },
     "execution_count": 113,
     "metadata": {},
     "output_type": "execute_result"
    }
   ],
   "source": [
    "model.state_dict()"
   ]
  },
  {
   "cell_type": "markdown",
   "metadata": {},
   "source": [
    "## 4. Loss Functions and Optimisers:\n",
    "### ● Task: Use various loss functions and optimisers to train a simple model in PyTorch.\n",
    "### ● Objective: To learn about the role of loss functions and optimisers in machine learning."
   ]
  },
  {
   "cell_type": "code",
   "execution_count": null,
   "metadata": {},
   "outputs": [],
   "source": [
    "from torch import optim"
   ]
  },
  {
   "cell_type": "code",
   "execution_count": null,
   "metadata": {},
   "outputs": [
    {
     "name": "stdout",
     "output_type": "stream",
     "text": [
      "Training set has 938 instances\n",
      "Testing set has 157 instances\n"
     ]
    }
   ],
   "source": [
    "# split the data into training and test data\n",
    "train_dataset = DataLoader( \n",
    "    MNIST\n",
    "    ('./mnist_data',\n",
    "    train = True,\n",
    "    download = True,\n",
    "    transform = transform),\n",
    "    batch_size = 64, \n",
    "    shuffle = True)\n",
    "\n",
    "test_dataset =  DataLoader( \n",
    "    MNIST\n",
    "    ('./mnist_data',\n",
    "    train = False,\n",
    "    download = True,\n",
    "    transform = transform),\n",
    "    batch_size = 64, \n",
    "    shuffle = False)\n",
    "\n",
    "print('Training set has {} instances'.format(len(train_dataset)))\n",
    "print('Testing set has {} instances'.format(len(test_dataset)))"
   ]
  },
  {
   "cell_type": "code",
   "execution_count": null,
   "metadata": {},
   "outputs": [],
   "source": [
    "loss_func1 = F.cross_entropy\n",
    "loss_func2 = nn.NLLLoss()\n",
    "opt1 = optim.SGD(model.parameters(), lr = 1e-3)\n",
    "opt2 = optim.Adam(model.parameters(), lr = 0.001)"
   ]
  },
  {
   "cell_type": "code",
   "execution_count": null,
   "metadata": {},
   "outputs": [],
   "source": [
    "def trainer(model, loss_func, opt, train_dataset, epochs=10, verbose=True):\n",
    "    '''\n",
    "    Training function for epochs = 10, returning accuracy and loss function values.\n",
    "    '''\n",
    "    model.train()\n",
    "    train_accuracies = []\n",
    "    train_losses = []\n",
    "\n",
    "    for epoch in range(epochs):\n",
    "        epoch_loss = 0.0\n",
    "        correct_pred = 0\n",
    "        total_samples = 0\n",
    "\n",
    "        for x, y in train_dataset:\n",
    "            # prediction and loss function\n",
    "            pred = model(x)\n",
    "            loss = loss_func(pred, y)\n",
    "\n",
    "            # backpropagation\n",
    "            loss.backward()\n",
    "            opt.step()\n",
    "            opt.zero_grad()\n",
    "\n",
    "            # accuracy\n",
    "            _, predicted = torch.max(pred.data, 1)\n",
    "            total_samples += y.size(0)\n",
    "            correct_pred += (predicted == y).sum().item()\n",
    "\n",
    "            # loss\n",
    "            epoch_loss += loss.item()\n",
    "\n",
    "        # calculation of accuracy and loss function for each epoch\n",
    "        average_loss = epoch_loss / len(train_dataset)\n",
    "        accuracy = correct_pred / total_samples\n",
    "\n",
    "        # adding results to lists\n",
    "        train_losses.append(average_loss)\n",
    "        train_accuracies.append(accuracy)\n",
    "\n",
    "        if verbose:\n",
    "            print(f'Epoch [{epoch+1}/{epochs}], Loss: {average_loss}, Accuracy: {accuracy}')\n",
    "\n",
    "    return train_losses, train_accuracies"
   ]
  },
  {
   "cell_type": "code",
   "execution_count": null,
   "metadata": {},
   "outputs": [],
   "source": [
    "# train1 = trainer(model, loss_func1, opt1, data_train)\n",
    "# train1 "
   ]
  },
  {
   "cell_type": "code",
   "execution_count": null,
   "metadata": {},
   "outputs": [
    {
     "name": "stdout",
     "output_type": "stream",
     "text": [
      "Epoch [1/10], Loss: 0.38508999742456335, Accuracy: 0.88755\n",
      "Epoch [2/10], Loss: 0.20373409884824936, Accuracy: 0.93905\n",
      "Epoch [3/10], Loss: 0.15132636371165958, Accuracy: 0.9544166666666667\n",
      "Epoch [4/10], Loss: 0.12400832486404444, Accuracy: 0.9627833333333333\n",
      "Epoch [5/10], Loss: 0.10795044996289176, Accuracy: 0.9669\n",
      "Epoch [6/10], Loss: 0.09639782547803798, Accuracy: 0.9702166666666666\n",
      "Epoch [7/10], Loss: 0.08816967042399321, Accuracy: 0.9724666666666667\n",
      "Epoch [8/10], Loss: 0.08121871661659437, Accuracy: 0.9745166666666667\n",
      "Epoch [9/10], Loss: 0.07594962927725302, Accuracy: 0.9758666666666667\n",
      "Epoch [10/10], Loss: 0.07189168230340535, Accuracy: 0.9772\n"
     ]
    }
   ],
   "source": [
    "train_losses, train_accuracies = trainer(model, loss_func2, opt2, data_train)"
   ]
  },
  {
   "cell_type": "code",
   "execution_count": null,
   "metadata": {},
   "outputs": [],
   "source": [
    "def tester(model, test_dataset, loss_func):\n",
    "    '''\n",
    "    Function used to validate the model on the test set.\n",
    "    '''\n",
    "    model.eval()\n",
    "    test_loss = 0\n",
    "    correct_pred = 0\n",
    "    total_samples = 0 \n",
    "\n",
    "    with torch.no_grad():\n",
    "        for x, y in test_dataset:\n",
    "            pred = model(x)\n",
    "            test_loss += loss_func(pred, y).item()\n",
    "            correct_pred += torch.eq(pred.argmax(1), y).sum().item()\n",
    "            total_samples += y.size(0)\n",
    "\n",
    "    test_loss /= len(test_dataset)\n",
    "    accuracy = correct_pred / total_samples\n",
    "\n",
    "    print(f\"Test Error: \\n Accuracy: {accuracy * 100:.2f}%, Avg loss: {test_loss:.8f} \\n\")\n"
   ]
  },
  {
   "cell_type": "code",
   "execution_count": null,
   "metadata": {},
   "outputs": [
    {
     "name": "stdout",
     "output_type": "stream",
     "text": [
      "Test Error: \n",
      " Accuracy: 97.28%, Avg loss: 0.09116000 \n",
      "\n"
     ]
    }
   ],
   "source": [
    "test = tester(model, test_dataset, loss_func2)"
   ]
  },
  {
   "cell_type": "markdown",
   "metadata": {},
   "source": [
    "## 5. Visualising the Model Results:\n",
    "### ● Task: After training the model, generate graphs showing accuracy (accuracy) and loss (loss) over time.\n",
    "### ● Objective: To understand how to monitor and analyse progress in machine learning."
   ]
  },
  {
   "cell_type": "code",
   "execution_count": null,
   "metadata": {},
   "outputs": [],
   "source": [
    "import matplotlib.pyplot as plt"
   ]
  },
  {
   "cell_type": "code",
   "execution_count": null,
   "metadata": {},
   "outputs": [
    {
     "data": {
      "image/png": "[encoded data removed]",
      "text/plain": [
       "<Figure size 1000x500 with 1 Axes>"
      ]
     },
     "metadata": {},
     "output_type": "display_data"
    }
   ],
   "source": [
    "# accuracy\n",
    "plt.figure(figsize=(10,5))\n",
    "plt.title(\"Training accuracies\")\n",
    "plt.plot(train_accuracies, label=\"train\")\n",
    "plt.xlabel(\"Epochs\")\n",
    "plt.ylabel(\"Accuracy\")\n",
    "plt.legend()\n",
    "plt.show()"
   ]
  },
  {
   "cell_type": "code",
   "execution_count": null,
   "metadata": {},
   "outputs": [
    {
     "data": {
      "image/png": "[encoded data removed]",
      "text/plain": [
       "<Figure size 1000x500 with 1 Axes>"
      ]
     },
     "metadata": {},
     "output_type": "display_data"
    }
   ],
   "source": [
    "# loss function \n",
    "plt.figure(figsize=(10,5))\n",
    "plt.title(\"Training Loss\")\n",
    "plt.plot(train_losses, label=\"train\")\n",
    "plt.xlabel(\"Epochs\")\n",
    "plt.ylabel(\"Loss\")\n",
    "plt.legend()\n",
    "plt.show()"
   ]
  },
  {
   "cell_type": "markdown",
   "metadata": {},
   "source": [
    "## 6. Save and Load Model:\n",
    "### ● Task: Save the trained model to a file and reload it.\n",
    "### ● Objective: To learn how to manage models, which is key in the practical application of machine learning."
   ]
  },
  {
   "cell_type": "code",
   "execution_count": null,
   "metadata": {},
   "outputs": [],
   "source": [
    "torch.save(model.state_dict(), './simple_model.pt') # saving the model"
   ]
  },
  {
   "cell_type": "code",
   "execution_count": null,
   "metadata": {},
   "outputs": [
    {
     "name": "stdout",
     "output_type": "stream",
     "text": [
      "Model's state_dict:\n",
      "layer.weight \t torch.Size([128, 1024])\n",
      "layer.bias \t torch.Size([128])\n",
      "output.weight \t torch.Size([10, 128])\n",
      "output.bias \t torch.Size([10])\n",
      "Optimizer's state_dict:\n",
      "state \t {0: {'step': tensor(9380.), 'exp_avg': tensor([[-5.6052e-45, -5.6052e-45, -5.6052e-45,  ..., -5.6052e-45,\n",
      "         -5.6052e-45, -5.6052e-45],\n",
      "        [-4.2254e-04, -4.2254e-04, -4.2254e-04,  ..., -4.2254e-04,\n",
      "         -4.2254e-04, -4.2254e-04],\n",
      "        [ 1.0669e-03,  1.0669e-03,  1.0669e-03,  ...,  1.0669e-03,\n",
      "          1.0669e-03,  1.0669e-03],\n",
      "        ...,\n",
      "        [ 9.8869e-04,  9.8869e-04,  9.8869e-04,  ...,  9.8869e-04,\n",
      "          9.8869e-04,  9.8869e-04],\n",
      "        [-1.7548e-08, -1.7548e-08, -1.7548e-08,  ..., -1.7548e-08,\n",
      "         -1.7548e-08, -1.7548e-08],\n",
      "        [ 5.6110e-04,  5.6110e-04,  5.6110e-04,  ...,  5.6110e-04,\n",
      "          5.6110e-04,  5.6110e-04]]), 'exp_avg_sq': tensor([[3.3773e-15, 3.3773e-15, 3.3773e-15,  ..., 3.3773e-15, 3.3773e-15,\n",
      "         3.3773e-15],\n",
      "        [6.5768e-06, 6.5768e-06, 6.5768e-06,  ..., 6.5768e-06, 6.5768e-06,\n",
      "         6.5768e-06],\n",
      "        [1.1879e-05, 1.1879e-05, 1.1879e-05,  ..., 1.1879e-05, 1.1879e-05,\n",
      "         1.1879e-05],\n",
      "        ...,\n",
      "        [5.5418e-06, 5.5418e-06, 5.5418e-06,  ..., 5.5418e-06, 5.5418e-06,\n",
      "         5.5418e-06],\n",
      "        [2.1130e-06, 2.1130e-06, 2.1130e-06,  ..., 2.1130e-06, 2.1130e-06,\n",
      "         2.1130e-06],\n",
      "        [6.5339e-06, 6.5339e-06, 6.5339e-06,  ..., 6.5339e-06, 6.5339e-06,\n",
      "         6.5339e-06]])}, 1: {'step': tensor(9380.), 'exp_avg': tensor([ 5.6052e-45,  4.2254e-04, -1.0669e-03, -4.0486e-04,  5.6052e-45,\n",
      "        -3.7236e-04, -4.6422e-04,  5.6052e-45,  5.6052e-45,  5.6052e-45,\n",
      "         5.0544e-04,  6.3621e-04,  1.9094e-04,  5.6052e-45,  5.6052e-45,\n",
      "         5.6052e-45,  5.6052e-45,  2.7010e-04, -1.7190e-04,  5.6052e-45,\n",
      "         5.6052e-45,  0.0000e+00, -8.5744e-05,  5.6052e-45,  3.5962e-06,\n",
      "         5.6052e-45, -7.5576e-04,  9.0060e-04, -7.5969e-05,  5.6052e-45,\n",
      "         5.6052e-45,  8.4909e-04,  5.6052e-45, -3.5187e-04,  3.9530e-04,\n",
      "        -2.8604e-05,  5.6052e-45,  5.6052e-45,  3.8602e-05, -9.0143e-04,\n",
      "         5.6052e-45,  5.6052e-45,  5.6052e-45,  3.4071e-04,  5.0474e-04,\n",
      "         5.6052e-45, -4.2148e-04, -2.9450e-04,  5.6052e-45, -4.6549e-06,\n",
      "        -1.8824e-04,  7.9338e-04,  5.7428e-04,  5.6052e-45,  2.0487e-05,\n",
      "         5.6052e-45,  2.1950e-04, -1.8905e-04,  5.6052e-45, -7.1612e-05,\n",
      "         2.1434e-05,  5.6052e-45,  5.6052e-45,  3.6252e-04, -1.2891e-04,\n",
      "         5.6052e-45,  5.6052e-45,  5.6052e-45,  5.6052e-45,  1.5897e-04,\n",
      "        -1.8665e-04,  5.6052e-45,  5.6052e-45, -4.6461e-06,  1.1874e-04,\n",
      "         5.6052e-45,  5.6052e-45,  5.6052e-45,  5.6052e-45,  5.9219e-05,\n",
      "         4.9610e-04, -2.0826e-04,  5.6052e-45, -1.0587e-03,  5.6052e-45,\n",
      "         1.4499e-04,  5.6052e-45,  5.6052e-45,  5.6052e-45,  5.6052e-45,\n",
      "         5.6052e-45,  5.6052e-45, -9.6574e-04,  5.6052e-45, -2.7403e-04,\n",
      "         5.6052e-45,  6.2424e-04, -2.5095e-04,  4.8845e-04,  1.0105e-03,\n",
      "         5.6052e-45,  5.6052e-45,  5.6052e-45,  5.6052e-45,  5.6052e-45,\n",
      "         5.6052e-45, -1.1022e-04,  5.6052e-45,  5.6052e-45,  5.6052e-45,\n",
      "        -8.1186e-04,  8.7669e-05,  5.0859e-04,  5.6052e-45,  3.7174e-04,\n",
      "         5.6052e-45,  5.6052e-45,  5.6052e-45,  0.0000e+00,  2.5579e-04,\n",
      "         5.6052e-45,  5.6052e-45,  6.2363e-05,  5.3399e-04,  5.6052e-45,\n",
      "        -9.8869e-04,  1.7554e-08, -5.6110e-04]), 'exp_avg_sq': tensor([3.3773e-15, 6.5768e-06, 1.1879e-05, 5.9193e-06, 2.5848e-12, 4.6344e-06,\n",
      "        1.2168e-05, 7.9329e-13, 7.9362e-13, 5.9751e-13, 4.8397e-06, 4.5138e-06,\n",
      "        5.7073e-06, 8.9449e-14, 3.3584e-12, 2.8644e-14, 1.6076e-14, 1.2149e-05,\n",
      "        5.8823e-06, 7.8970e-13, 2.5079e-11, 0.0000e+00, 3.8434e-06, 1.2932e-12,\n",
      "        8.6928e-06, 2.2954e-12, 1.0085e-05, 7.2655e-06, 3.6765e-06, 4.9642e-14,\n",
      "        2.2275e-12, 1.1222e-05, 5.9943e-12, 1.4951e-06, 3.6703e-06, 3.7239e-06,\n",
      "        1.7286e-12, 1.0492e-13, 8.4831e-06, 3.7971e-06, 2.4036e-12, 5.9157e-14,\n",
      "        8.5928e-14, 9.7407e-06, 1.7130e-06, 1.3250e-12, 5.3046e-06, 5.2830e-06,\n",
      "        5.0711e-14, 6.4203e-06, 2.9068e-06, 1.1355e-05, 1.3029e-05, 2.2553e-11,\n",
      "        3.4439e-06, 2.3503e-13, 9.3979e-06, 1.2158e-05, 7.2960e-14, 2.5471e-06,\n",
      "        4.5773e-06, 3.7316e-13, 5.7058e-13, 3.3123e-06, 5.3194e-06, 1.0805e-13,\n",
      "        1.7322e-12, 5.6695e-13, 1.3366e-11, 6.9996e-06, 2.9936e-06, 5.6318e-13,\n",
      "        4.8540e-11, 1.5831e-07, 5.4827e-06, 7.4074e-13, 5.8592e-13, 7.5990e-12,\n",
      "        5.6376e-13, 5.1874e-06, 5.3071e-06, 7.1059e-06, 1.0763e-13, 5.3469e-06,\n",
      "        1.1147e-12, 4.3775e-06, 3.4177e-11, 3.7637e-13, 2.2951e-12, 1.2875e-11,\n",
      "        1.0179e-12, 7.6515e-12, 4.8053e-06, 2.2707e-12, 4.0893e-06, 1.0058e-12,\n",
      "        5.2232e-06, 2.0576e-06, 5.7336e-06, 8.2311e-06, 1.1364e-14, 5.0040e-13,\n",
      "        4.8566e-13, 8.8882e-13, 5.0320e-14, 1.0005e-11, 5.2059e-06, 9.5902e-13,\n",
      "        8.4112e-13, 2.1245e-13, 4.5497e-06, 9.0758e-06, 6.3222e-06, 7.3123e-12,\n",
      "        6.7341e-06, 1.5739e-15, 4.6451e-14, 6.5615e-15, 0.0000e+00, 4.3926e-06,\n",
      "        5.8317e-11, 2.2220e-12, 9.2421e-06, 6.6400e-06, 2.1232e-13, 5.5418e-06,\n",
      "        2.1130e-06, 6.5339e-06])}, 2: {'step': tensor(9380.), 'exp_avg': tensor([[-5.6052e-45,  9.2382e-03, -1.1046e-03,  ...,  6.2847e-04,\n",
      "         -2.3197e-04, -1.0288e-03],\n",
      "        [ 5.6052e-45, -1.9051e-03,  2.1760e-04,  ..., -1.6003e-03,\n",
      "          4.1754e-04, -8.9220e-03],\n",
      "        [-5.6052e-45, -1.8410e-05,  1.0182e-02,  ...,  8.1983e-04,\n",
      "         -1.0957e-03, -7.1874e-03],\n",
      "        ...,\n",
      "        [ 5.6052e-45,  2.6568e-03,  8.8312e-03,  ...,  1.8661e-03,\n",
      "          4.0140e-03,  3.2675e-02],\n",
      "        [ 5.6052e-45,  2.4300e-03,  6.8465e-03,  ...,  4.1657e-03,\n",
      "         -5.0749e-04,  2.1698e-02],\n",
      "        [ 5.6052e-45,  7.6614e-03,  4.0023e-03,  ...,  1.7196e-03,\n",
      "         -4.6881e-04, -6.2632e-03]]), 'exp_avg_sq': tensor([[5.7161e-14, 4.1295e-04, 5.9878e-04,  ..., 1.7565e-04, 9.6107e-04,\n",
      "         1.4603e-03],\n",
      "        [8.2297e-14, 1.6451e-03, 6.4138e-04,  ..., 1.4402e-03, 1.1923e-04,\n",
      "         1.6737e-03],\n",
      "        [2.5854e-12, 3.0181e-03, 1.1870e-03,  ..., 4.0155e-04, 1.2044e-03,\n",
      "         4.4085e-03],\n",
      "        ...,\n",
      "        [4.8659e-14, 2.4107e-03, 4.9950e-04,  ..., 1.8462e-03, 1.0238e-03,\n",
      "         2.9181e-03],\n",
      "        [2.4623e-14, 4.6544e-03, 6.3209e-04,  ..., 9.1519e-04, 1.1555e-03,\n",
      "         5.3153e-03],\n",
      "        [4.9411e-14, 3.7952e-03, 7.5866e-04,  ..., 3.3202e-03, 1.2631e-03,\n",
      "         3.3706e-03]])}, 3: {'step': tensor(9380.), 'exp_avg': tensor([ 9.2595e-04, -5.9329e-04, -1.3193e-03, -4.4465e-04, -5.9042e-06,\n",
      "        -2.2596e-03, -1.4210e-03,  3.8583e-03,  1.5566e-03, -2.9710e-04]), 'exp_avg_sq': tensor([2.9352e-05, 4.3737e-05, 6.4765e-05, 8.6378e-05, 7.0322e-05, 7.4549e-05,\n",
      "        4.0695e-05, 7.0507e-05, 9.5662e-05, 1.0136e-04])}}\n",
      "param_groups \t [{'lr': 0.001, 'betas': (0.9, 0.999), 'eps': 1e-08, 'weight_decay': 0, 'amsgrad': False, 'maximize': False, 'foreach': None, 'capturable': False, 'differentiable': False, 'fused': None, 'params': [0, 1, 2, 3]}]\n"
     ]
    }
   ],
   "source": [
    "# Print model's state_dict\n",
    "print(\"Model's state_dict:\")\n",
    "for param_tensor in model.state_dict():\n",
    "    print(param_tensor, \"\\t\", model.state_dict()[param_tensor].size())\n",
    "\n",
    "# Print optimizer's state_dict\n",
    "print(\"Optimizer's state_dict:\")\n",
    "for var_name in opt2.state_dict():\n",
    "    print(var_name, \"\\t\", opt2.state_dict()[var_name])"
   ]
  },
  {
   "cell_type": "code",
   "execution_count": null,
   "metadata": {},
   "outputs": [
    {
     "data": {
      "text/plain": [
       "SimpleModel(\n",
       "  (flatten): Flatten(start_dim=1, end_dim=-1)\n",
       "  (layer): Linear(in_features=1024, out_features=128, bias=True)\n",
       "  (activation): ReLU()\n",
       "  (output): Linear(in_features=128, out_features=10, bias=True)\n",
       "  (softmax): LogSoftmax(dim=1)\n",
       ")"
      ]
     },
     "execution_count": 127,
     "metadata": {},
     "output_type": "execute_result"
    }
   ],
   "source": [
    "# loading the model\n",
    "model = SimpleModel(hidden_size, input_size, output_size)\n",
    "model.load_state_dict(torch.load('./simple_model.pt'))\n",
    "model.eval()"
   ]
  }
 ],
 "metadata": {
  "kernelspec": {
   "display_name": "Python 3",
   "language": "python",
   "name": "python3"
  },
  "language_info": {
   "codemirror_mode": {
    "name": "ipython",
    "version": 3
   },
   "file_extension": ".py",
   "mimetype": "text/x-python",
   "name": "python",
   "nbconvert_exporter": "python",
   "pygments_lexer": "ipython3",
   "version": "3.11.6"
  }
 },
 "nbformat": 4,
 "nbformat_minor": 2
}
